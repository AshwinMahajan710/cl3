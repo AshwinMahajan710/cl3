{
 "cells": [
  {
   "cell_type": "code",
   "execution_count": 34,
   "id": "76384700-038b-44a2-bc73-61501f408136",
   "metadata": {},
   "outputs": [
    {
     "name": "stdout",
     "output_type": "stream",
     "text": [
      "Best solution: [-0.04404418  0.12306875  0.0853946  -0.05207646  0.07547308  0.06194559\n",
      " -0.01445274  0.00639098  0.01620483 -0.05391118]\n",
      "Best fitness: 0.040042183238028696\n"
     ]
    }
   ],
   "source": [
    "import numpy as np\n",
    "\n",
    "def sphere_function(n):\n",
    "    return np.sum(n**2)\n",
    "\n",
    "def colonal_selection_algorithm(dim, pop_size, max_iter, mutation_rate):\n",
    "\n",
    "    # create the data of (100,10)\n",
    "    population = np.random.uniform(-5,5,size = (pop_size,dim))\n",
    "\n",
    "    for i in range (max_iter):\n",
    "        # calculate fitness for each individual\n",
    "        fitness = np.array([sphere_function(val) for val in population])\n",
    "\n",
    "        # sort population based on fitness\n",
    "        sorted_indices = np.argsort(fitness)\n",
    "        population = population[sorted_indices]\n",
    "        fitness = fitness[sorted_indices]\n",
    "\n",
    "        # clone individual based on their fitness\n",
    "        num_of_clones = int(pop_size*0.5)\n",
    "        clones = population[:num_of_clones]\n",
    "\n",
    "        # mutate clones \n",
    "        mutated_clones = clones + np.random.normal(scale = mutation_rate, size = clones.shape)\n",
    "\n",
    "        # select best candidates from mutate clones and population\n",
    "        new_population = np.vstack((population[:num_of_clones], mutated_clones))\n",
    "\n",
    "        # redifine population\n",
    "        population = new_population\n",
    "\n",
    "    # return best solution and fitness\n",
    "    best_solution = population[np.argmin(fitness)]\n",
    "    best_fitness = fitness.min()\n",
    "\n",
    "    return best_solution, best_fitness\n",
    "        \n",
    "# values \n",
    "dim = 10\n",
    "pop_size = 100\n",
    "max_iter = 100\n",
    "mutation_rate = 0.1\n",
    "\n",
    "# Run Clonal Selection Algorithm\n",
    "best_solution, best_fitness = colonal_selection_algorithm(dim, pop_size, max_iter, mutation_rate)\n",
    "\n",
    "print(\"Best solution:\", best_solution)\n",
    "print(\"Best fitness:\", best_fitness)"
   ]
  },
  {
   "cell_type": "code",
   "execution_count": null,
   "id": "7d32465c-1ab9-4e6e-a034-f2ea2fa9cb98",
   "metadata": {},
   "outputs": [],
   "source": []
  }
 ],
 "metadata": {
  "kernelspec": {
   "display_name": "Python 3 (ipykernel)",
   "language": "python",
   "name": "python3"
  },
  "language_info": {
   "codemirror_mode": {
    "name": "ipython",
    "version": 3
   },
   "file_extension": ".py",
   "mimetype": "text/x-python",
   "name": "python",
   "nbconvert_exporter": "python",
   "pygments_lexer": "ipython3",
   "version": "3.10.11"
  }
 },
 "nbformat": 4,
 "nbformat_minor": 5
}
