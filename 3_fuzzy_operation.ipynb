{
 "cells": [
  {
   "cell_type": "code",
   "execution_count": 8,
   "id": "b9ec4d28-f8ef-40e4-ad89-7161bfbdd55c",
   "metadata": {},
   "outputs": [],
   "source": [
    "A = {'x1' : 0.3 , 'x2' : 0.5, 'x3' : 0.7 , 'x4' : 0.9}\n",
    "B = {'x1' : 0.6 , 'x2' : 0.9, 'x3' : 0.3 , 'x4' : 0.8}"
   ]
  },
  {
   "cell_type": "code",
   "execution_count": 9,
   "id": "9bb21d51-5152-4bf6-a0a7-4820bb4528a0",
   "metadata": {},
   "outputs": [
    {
     "data": {
      "text/plain": [
       "{'x1': 0.6, 'x2': 0.9, 'x3': 0.7, 'x4': 0.9}"
      ]
     },
     "execution_count": 9,
     "metadata": {},
     "output_type": "execute_result"
    }
   ],
   "source": [
    "def union_operation(A,B):\n",
    "    ans = {}\n",
    "    for key in A.keys():\n",
    "        ans[key] = max(A[key],B[key])\n",
    "    return ans\n",
    "\n",
    "union_operation(A,B)"
   ]
  },
  {
   "cell_type": "code",
   "execution_count": 10,
   "id": "6e037d82-7b65-43b7-8469-41118adbdfa9",
   "metadata": {},
   "outputs": [
    {
     "data": {
      "text/plain": [
       "{'x1': 0.3, 'x2': 0.5, 'x3': 0.3, 'x4': 0.8}"
      ]
     },
     "execution_count": 10,
     "metadata": {},
     "output_type": "execute_result"
    }
   ],
   "source": [
    "def intersection_operation(A,B):\n",
    "    ans = {}\n",
    "    for key in A.keys():\n",
    "        ans[key] = min(A[key],B[key])\n",
    "    return ans\n",
    "\n",
    "intersection_operation(A,B)"
   ]
  },
  {
   "cell_type": "code",
   "execution_count": 11,
   "id": "48be4c60-c413-436e-bdf0-63e812e47c80",
   "metadata": {},
   "outputs": [
    {
     "data": {
      "text/plain": [
       "{'x1': 0.7, 'x2': 0.5, 'x3': 0.30000000000000004, 'x4': 0.09999999999999998}"
      ]
     },
     "execution_count": 11,
     "metadata": {},
     "output_type": "execute_result"
    }
   ],
   "source": [
    "def complement_operation(A):\n",
    "    ans = {}\n",
    "    for key in A.keys():\n",
    "        ans[key] = 1 - A[key]\n",
    "    return ans\n",
    "\n",
    "complement_operation(A)"
   ]
  },
  {
   "cell_type": "code",
   "execution_count": 12,
   "id": "2fc0d52b-8f22-47b5-ad3f-0b17793fbeb4",
   "metadata": {},
   "outputs": [
    {
     "data": {
      "text/plain": [
       "{'x1': 0.3, 'x2': 0.09999999999999998, 'x3': 0.7, 'x4': 0.19999999999999996}"
      ]
     },
     "execution_count": 12,
     "metadata": {},
     "output_type": "execute_result"
    }
   ],
   "source": [
    "def difference_operation(A,B):\n",
    "    ans = {}\n",
    "    for key in A.keys():\n",
    "        ans[key] = min(A[key],1-B[key])\n",
    "    return ans\n",
    "difference_operation(A,B)"
   ]
  },
  {
   "cell_type": "code",
   "execution_count": 14,
   "id": "48c426c4-9b47-48b8-9de4-49081f9fd5eb",
   "metadata": {},
   "outputs": [
    {
     "data": {
      "text/plain": [
       "{'x1': 0.72, 'x2': 0.95, 'x3': 0.79, 'x4': 0.9800000000000001}"
      ]
     },
     "execution_count": 14,
     "metadata": {},
     "output_type": "execute_result"
    }
   ],
   "source": [
    "def sum_operation(A,B):\n",
    "    ans = {}\n",
    "    for key in A.keys():\n",
    "        ans[key] = A[key] + B[key] - (A[key]*B[key])\n",
    "    return ans\n",
    "sum_operation(A,B)"
   ]
  },
  {
   "cell_type": "code",
   "execution_count": 2,
   "id": "e18df060-743f-463b-8d61-e9f2416b1be5",
   "metadata": {},
   "outputs": [
    {
     "name": "stdout",
     "output_type": "stream",
     "text": [
      "[[0.6 0.5 0.3]\n",
      " [0.8 0.4 0.7]]\n"
     ]
    }
   ],
   "source": [
    "import numpy as np\n",
    "\n",
    "X = np.array([\n",
    "    [0.6, 0.3],\n",
    "    [0.2, 0.9]\n",
    "])\n",
    "\n",
    "Y = np.array([\n",
    "    [1, 0.5, 0.3],\n",
    "    [0.8, 0.4, 0.7]\n",
    "])\n",
    "\n",
    "rows = X.shape[0]\n",
    "cols = Y.shape[1]\n",
    "common = X.shape[1]\n",
    "\n",
    "res = np.zeros((rows,cols))\n",
    "for i in range(rows):\n",
    "    for j in range(cols):\n",
    "        max_value = -float('inf')\n",
    "        for k in range(common):\n",
    "            small = min(X[i][k],Y[k][j])\n",
    "            if(small>max_value):\n",
    "                max_value = small\n",
    "        res[i][j] = max_value\n",
    "\n",
    "print(res)"
   ]
  },
  {
   "cell_type": "code",
   "execution_count": null,
   "id": "79918dd4-e2cf-4284-8f0f-8fbd53d223bf",
   "metadata": {},
   "outputs": [],
   "source": []
  }
 ],
 "metadata": {
  "kernelspec": {
   "display_name": "Python 3 (ipykernel)",
   "language": "python",
   "name": "python3"
  },
  "language_info": {
   "codemirror_mode": {
    "name": "ipython",
    "version": 3
   },
   "file_extension": ".py",
   "mimetype": "text/x-python",
   "name": "python",
   "nbconvert_exporter": "python",
   "pygments_lexer": "ipython3",
   "version": "3.10.11"
  }
 },
 "nbformat": 4,
 "nbformat_minor": 5
}
