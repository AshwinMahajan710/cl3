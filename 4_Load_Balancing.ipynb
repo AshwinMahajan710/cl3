{
 "cells": [
  {
   "cell_type": "code",
   "execution_count": 2,
   "id": "90d348af-471f-4ed1-a7bd-229409b8dc24",
   "metadata": {},
   "outputs": [],
   "source": [
    "def create_server(name,weight):\n",
    "    return {'name':name, 'weight':weight}"
   ]
  },
  {
   "cell_type": "code",
   "execution_count": 3,
   "id": "9c10e42e-28c4-477d-8696-5a6a104fa7d1",
   "metadata": {},
   "outputs": [],
   "source": [
    "def add_server(i):\n",
    "    name = input(f'Enter the name of the server {i+1} :- ')\n",
    "    weight = int(input(f'Enter the weight of the server {i+1} :- '))\n",
    "    return create_server(name,weight)"
   ]
  },
  {
   "cell_type": "code",
   "execution_count": 9,
   "id": "d5a75d47-f571-40d3-92b3-7b344576599f",
   "metadata": {},
   "outputs": [
    {
     "name": "stdin",
     "output_type": "stream",
     "text": [
      "Enter the no of the server :-  5\n",
      "Enter the name of the server 0 :-  Ashwin\n",
      "Enter the weight of the server 0 :-  44\n",
      "Enter the name of the server 1 :-  Yashw\n",
      "Enter the weight of the server 1 :-  99\n",
      "Enter the name of the server 2 :-  Dada\n",
      "Enter the weight of the server 2 :-  3\n",
      "Enter the name of the server 3 :-  Saurabh\n",
      "Enter the weight of the server 3 :-  33\n",
      "Enter the name of the server 4 :-  Kka\n",
      "Enter the weight of the server 4 :-  6\n",
      "Enter the load :-  8\n"
     ]
    },
    {
     "name": "stdout",
     "output_type": "stream",
     "text": [
      " The load 1 assigned to the server Ashwin...\n",
      " The load 2 assigned to the server Yashw...\n",
      " The load 3 assigned to the server Dada...\n",
      " The load 4 assigned to the server Saurabh...\n",
      " The load 5 assigned to the server Kka...\n",
      " The load 6 assigned to the server Ashwin...\n",
      " The load 7 assigned to the server Yashw...\n",
      " The load 8 assigned to the server Dada...\n"
     ]
    }
   ],
   "source": [
    "# Without weight\n",
    "if __name__=='__main__':\n",
    "    servers = []\n",
    "    n = int(input(\"Enter the no of the server :- \"))\n",
    "    for i in range (n):\n",
    "        servers.append(add_server(i))\n",
    "    load = int(input(\"Enter the load :- \"))\n",
    "    for i in range(load):\n",
    "        curr_idx = i%n\n",
    "        print(f\" The load {i+1} assigned to the server {servers[curr_idx]['name']}...\")"
   ]
  },
  {
   "cell_type": "code",
   "execution_count": null,
   "id": "53e6edf7-c41f-4ebb-b1dc-42bf9a517ac0",
   "metadata": {},
   "outputs": [],
   "source": [
    "# With weight\n",
    "if __name__=='__main__':\n",
    "    servers = []\n",
    "    n = int(input(\"Enter the no of the server :- \"))\n",
    "    for i in range (n):\n",
    "        servers.append(add_server(i))\n",
    "    load = int(input(\"Enter the load :- \"))\n",
    "    curr_idx = 0\n",
    "    while(load>0):\n",
    "        curr_idx = curr_idx % n\n",
    "        print(f\" The load {curr_idx+1} assigned to the server {servers[curr_idx]['name']}...\")\n",
    "        load = load - servers[curr_idx]['weight']\n",
    "        curr_idx = curr_idx + 1"
   ]
  },
  {
   "cell_type": "code",
   "execution_count": 1,
   "id": "612ab295-ab84-4afb-9134-7395524d0b6f",
   "metadata": {},
   "outputs": [],
   "source": [
    "def create_server(name,weight):\n",
    "    return {'name':name, 'weight' : weight}\n",
    "\n",
    "def get_server(i):\n",
    "    name = input(f\"Enter the name of server {i+1} :- \")\n",
    "    weight = int(input(f\"Enter the weight of the server {i+1} :- \"))\n",
    "    return create_server(name,weight)"
   ]
  },
  {
   "cell_type": "code",
   "execution_count": 4,
   "id": "6c190ca7-3b02-4bde-b8a8-172dd46900ae",
   "metadata": {},
   "outputs": [
    {
     "name": "stdin",
     "output_type": "stream",
     "text": [
      "Enter the no of the servers :-  4\n",
      "Enter the name of server 1 :-  Ashwin\n",
      "Enter the weight of the server 1 :-  44\n",
      "Enter the name of server 2 :-  dada\n",
      "Enter the weight of the server 2 :-  33\n",
      "Enter the name of server 3 :-  yash\n",
      "Enter the weight of the server 3 :-  88\n",
      "Enter the name of server 4 :-  saur\n",
      "Enter the weight of the server 4 :-  22\n",
      "Enter the no of the loads :-  67\n"
     ]
    },
    {
     "name": "stdout",
     "output_type": "stream",
     "text": [
      "Load 1 will be handled by server Ashwin....\n",
      "Load 2 will be handled by server dada....\n",
      "Load 3 will be handled by server yash....\n",
      "Load 4 will be handled by server saur....\n",
      "Load 5 will be handled by server Ashwin....\n",
      "Load 6 will be handled by server dada....\n",
      "Load 7 will be handled by server yash....\n",
      "Load 8 will be handled by server saur....\n",
      "Load 9 will be handled by server Ashwin....\n",
      "Load 10 will be handled by server dada....\n",
      "Load 11 will be handled by server yash....\n",
      "Load 12 will be handled by server saur....\n",
      "Load 13 will be handled by server Ashwin....\n",
      "Load 14 will be handled by server dada....\n",
      "Load 15 will be handled by server yash....\n",
      "Load 16 will be handled by server saur....\n",
      "Load 17 will be handled by server Ashwin....\n",
      "Load 18 will be handled by server dada....\n",
      "Load 19 will be handled by server yash....\n",
      "Load 20 will be handled by server saur....\n",
      "Load 21 will be handled by server Ashwin....\n",
      "Load 22 will be handled by server dada....\n",
      "Load 23 will be handled by server yash....\n",
      "Load 24 will be handled by server saur....\n",
      "Load 25 will be handled by server Ashwin....\n",
      "Load 26 will be handled by server dada....\n",
      "Load 27 will be handled by server yash....\n",
      "Load 28 will be handled by server saur....\n",
      "Load 29 will be handled by server Ashwin....\n",
      "Load 30 will be handled by server dada....\n",
      "Load 31 will be handled by server yash....\n",
      "Load 32 will be handled by server saur....\n",
      "Load 33 will be handled by server Ashwin....\n",
      "Load 34 will be handled by server dada....\n",
      "Load 35 will be handled by server yash....\n",
      "Load 36 will be handled by server saur....\n",
      "Load 37 will be handled by server Ashwin....\n",
      "Load 38 will be handled by server dada....\n",
      "Load 39 will be handled by server yash....\n",
      "Load 40 will be handled by server saur....\n",
      "Load 41 will be handled by server Ashwin....\n",
      "Load 42 will be handled by server dada....\n",
      "Load 43 will be handled by server yash....\n",
      "Load 44 will be handled by server saur....\n",
      "Load 45 will be handled by server Ashwin....\n",
      "Load 46 will be handled by server dada....\n",
      "Load 47 will be handled by server yash....\n",
      "Load 48 will be handled by server saur....\n",
      "Load 49 will be handled by server Ashwin....\n",
      "Load 50 will be handled by server dada....\n",
      "Load 51 will be handled by server yash....\n",
      "Load 52 will be handled by server saur....\n",
      "Load 53 will be handled by server Ashwin....\n",
      "Load 54 will be handled by server dada....\n",
      "Load 55 will be handled by server yash....\n",
      "Load 56 will be handled by server saur....\n",
      "Load 57 will be handled by server Ashwin....\n",
      "Load 58 will be handled by server dada....\n",
      "Load 59 will be handled by server yash....\n",
      "Load 60 will be handled by server saur....\n",
      "Load 61 will be handled by server Ashwin....\n",
      "Load 62 will be handled by server dada....\n",
      "Load 63 will be handled by server yash....\n",
      "Load 64 will be handled by server saur....\n",
      "Load 65 will be handled by server Ashwin....\n",
      "Load 66 will be handled by server dada....\n",
      "Load 67 will be handled by server yash....\n"
     ]
    }
   ],
   "source": [
    "servers = []\n",
    "n = int(input(\"Enter the no of the servers :- \"))\n",
    "for i in range(n):\n",
    "    servers.append(get_server(i))\n",
    "\n",
    "load = int(input(\"Enter the no of the loads :- \"))\n",
    "for i in range (load):\n",
    "    curr_idx = i%n\n",
    "    print(f\"Load {i+1} will be handled by server {servers[curr_idx]['name']}....\")"
   ]
  },
  {
   "cell_type": "code",
   "execution_count": null,
   "id": "95436353-ca43-492a-8018-737170802a7d",
   "metadata": {},
   "outputs": [],
   "source": []
  }
 ],
 "metadata": {
  "kernelspec": {
   "display_name": "Python 3 (ipykernel)",
   "language": "python",
   "name": "python3"
  },
  "language_info": {
   "codemirror_mode": {
    "name": "ipython",
    "version": 3
   },
   "file_extension": ".py",
   "mimetype": "text/x-python",
   "name": "python",
   "nbconvert_exporter": "python",
   "pygments_lexer": "ipython3",
   "version": "3.10.11"
  }
 },
 "nbformat": 4,
 "nbformat_minor": 5
}
